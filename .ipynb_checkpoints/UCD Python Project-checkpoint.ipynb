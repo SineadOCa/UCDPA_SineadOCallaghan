{
 "cells": [
  {
   "cell_type": "markdown",
   "id": "460055b7-85db-4b91-8b70-452add4d446d",
   "metadata": {},
   "source": [
    "# Importing libraries \n"
   ]
  },
  {
   "cell_type": "code",
   "execution_count": 13,
   "id": "60a568d9-6bc1-4303-a1b9-087449423ffb",
   "metadata": {},
   "outputs": [],
   "source": [
    "import pandas as pd\n",
    "\n",
    "import requests\n",
    "\n",
    "import numpy as np\n",
    "\n",
    "#import matplotlib.pyplot as plt"
   ]
  },
  {
   "cell_type": "code",
   "execution_count": 15,
   "id": "93be403a-8545-43a1-b8cd-b23a024ef623",
   "metadata": {
    "collapsed": true,
    "jupyter": {
     "outputs_hidden": true
    },
    "tags": []
   },
   "outputs": [
    {
     "data": {
      "text/plain": [
       "<bound method DataFrame.info of             STT No.         Carrier      Department      AWB No. Destination  \\\n",
       "0    37290010598473  GBVIRGATLA0003  IEDUBDPEXA0001  93272287552         JFK   \n",
       "1    37290010543084  AEEMIRATES0001  IESNNGWEXA0001  17652254160         SIN   \n",
       "2    37290010603030  USDELTAAIR0013  IEORKDPEXA0001  00606092203         BOS   \n",
       "3    37290010602590  USUNITAIRL0001  IEORKDPEXA0001  01658286141         GUM   \n",
       "4    37290010603689  AEEMIRATES0001  IEDUBDPEXA0001  17653698960         SIN   \n",
       "..              ...             ...             ...          ...         ...   \n",
       "134  37290010602521  USDELTAAIR0013  IESNNDPEXA0001  00606092170         BOS   \n",
       "135  37290010592686  AEEMIRATES0001  IEDUBDPEXA0001  17652267154         SIN   \n",
       "136  37290010592907  USDELTAAIR0013  IESNNDPEXA0001  00606091584         ATL   \n",
       "137  37290010604143  AEEMIRATES0001  IESNNDPEXA0001  17653699892         ACC   \n",
       "138  37290010603047  GBBRITAIRW0001  IESNNDPEXA0001  12553187901         LIS   \n",
       "\n",
       "    FAB reason  Remarks  FAB finished Booked Airline Prefix 1  \\\n",
       "0          NaN      NaN         False                      VS   \n",
       "1          AAC      NaN         False                      EK   \n",
       "2          NaN      NaN         False                      DL   \n",
       "3          NaN      NaN         False                      UA   \n",
       "4          NaN      NaN         False                      EK   \n",
       "..         ...      ...           ...                     ...   \n",
       "134        NaN      NaN         False                      DL   \n",
       "135        AAC      NaN         False                      EK   \n",
       "136        AAC      NaN          True                      DL   \n",
       "137        NaN      NaN         False                      EK   \n",
       "138        NaN      NaN         False                      BA   \n",
       "\n",
       "    Booked Flight No. 1  ...  ATD2 (Date) ATD2 (Time) Booked Airline Prefix 3  \\\n",
       "0                  6986  ...          NaN         NaN                     NaN   \n",
       "1                   164  ...  23-Feb-2023    21:15:00                     NaN   \n",
       "2                  7583  ...  26-Feb-2023    12:23:00                     NaN   \n",
       "3                 6260T  ...          NaN         NaN                      UA   \n",
       "4                   164  ...          NaN         NaN                     NaN   \n",
       "..                  ...  ...          ...         ...                     ...   \n",
       "134                7582  ...          NaN         NaN                     NaN   \n",
       "135                 164  ...  20-Feb-2023    21:13:00                     NaN   \n",
       "136                  45  ...          NaN         NaN                     NaN   \n",
       "137                4311  ...  26-Feb-2023    13:15:00                      EK   \n",
       "138               9271T  ...          NaN         NaN                     NaN   \n",
       "\n",
       "    Booked Flight No. 3  ETD3 (Date) ETD3 (Time) Actual Airline Prefix 3  \\\n",
       "0                   NaN          NaN         NaN                     NaN   \n",
       "1                   NaN          NaN         NaN                     NaN   \n",
       "2                   NaN          NaN         NaN                     NaN   \n",
       "3                  0201  28-Feb-2023    11:00:00                     NaN   \n",
       "4                   NaN          NaN         NaN                     NaN   \n",
       "..                  ...          ...         ...                     ...   \n",
       "134                 NaN          NaN         NaN                     NaN   \n",
       "135                 NaN          NaN         NaN                     NaN   \n",
       "136                 NaN          NaN         NaN                     NaN   \n",
       "137                 787  28-Feb-2023    07:40:00                     NaN   \n",
       "138                 NaN          NaN         NaN                     NaN   \n",
       "\n",
       "    Actual Flight No. 3 ATD3 (Date) ATD3 (Time)  \n",
       "0                   NaN         NaN         NaN  \n",
       "1                   NaN         NaN         NaN  \n",
       "2                   NaN         NaN         NaN  \n",
       "3                   NaN         NaN         NaN  \n",
       "4                   NaN         NaN         NaN  \n",
       "..                  ...         ...         ...  \n",
       "134                 NaN         NaN         NaN  \n",
       "135                 NaN         NaN         NaN  \n",
       "136                 NaN         NaN         NaN  \n",
       "137                 NaN         NaN         NaN  \n",
       "138                 NaN         NaN         NaN  \n",
       "\n",
       "[139 rows x 32 columns]>"
      ]
     },
     "execution_count": 15,
     "metadata": {},
     "output_type": "execute_result"
    }
   ],
   "source": [
    "shipment_data = pd.read_csv('shipment_data.csv')\n",
    "shipment_data.info"
   ]
  },
  {
   "cell_type": "code",
   "execution_count": 19,
   "id": "a2ccf6cd-bed6-4d6a-ab9e-52edb38d647d",
   "metadata": {
    "tags": []
   },
   "outputs": [],
   "source": [
    "shipment_data.shape"
   ]
  },
  {
   "cell_type": "code",
   "execution_count": 20,
   "id": "923d64cb-ca81-47e4-9da1-ffe3bde2f7af",
   "metadata": {
    "tags": []
   },
   "outputs": [
    {
     "data": {
      "text/plain": [
       "Index(['STT No.', 'Carrier', 'Department', 'AWB No.', 'Destination',\n",
       "       'FAB reason', 'Remarks', 'FAB finished', 'Booked Airline Prefix 1',\n",
       "       'Booked Flight No. 1', 'ETD1 (Date)', 'ETD1 (Time)',\n",
       "       'Actual Airline Prefix 1', 'Actual Flight No. 1', 'ATD1 (Date)',\n",
       "       'ATD1 (Time)', 'Booked Airline Prefix 2', 'Booked Flight No. 2',\n",
       "       'ETD2 (Date)', 'ETD2 (Time)', 'Actual Airline Prefix 2',\n",
       "       'Actual Flight No. 2', 'ATD2 (Date)', 'ATD2 (Time)',\n",
       "       'Booked Airline Prefix 3', 'Booked Flight No. 3', 'ETD3 (Date)',\n",
       "       'ETD3 (Time)', 'Actual Airline Prefix 3', 'Actual Flight No. 3',\n",
       "       'ATD3 (Date)', 'ATD3 (Time)'],\n",
       "      dtype='object')"
      ]
     },
     "execution_count": 20,
     "metadata": {},
     "output_type": "execute_result"
    }
   ],
   "source": [
    "shipment_data.columns"
   ]
  },
  {
   "cell_type": "code",
   "execution_count": 10,
   "id": "8d2022ae-21bd-499d-8ea7-a8dbf7eb2a3b",
   "metadata": {
    "collapsed": true,
    "jupyter": {
     "outputs_hidden": true
    },
    "tags": []
   },
   "outputs": [
    {
     "name": "stdout",
     "output_type": "stream",
     "text": [
      "{'identification': {'id': None, 'row': 5332895190, 'number': {'default': 'AA731', 'alternative': None}, 'callsign': None, 'codeshare': None}, 'status': {'live': False, 'text': 'Scheduled', 'icon': None, 'estimated': None, 'ambiguous': False, 'generic': {'status': {'text': 'scheduled', 'type': 'departure', 'color': 'gray', 'diverted': None}, 'eventTime': {'utc': None, 'local': None}}}, 'aircraft': {'model': {'code': '772', 'text': None}, 'hex': None, 'registration': None, 'serialNo': None, 'age': None, 'restricted': None, 'availability': {'serialNo': None, 'age': None}}, 'owner': None, 'airline': {'name': 'American Airlines', 'code': {'iata': 'AA', 'icao': 'AAL'}}, 'airport': {'origin': {'name': 'London Heathrow Airport', 'code': {'iata': 'LHR', 'icao': 'EGLL'}, 'position': {'latitude': 51.471626, 'longitude': -0.467081, 'country': {'name': 'United Kingdom', 'code': 'GB', 'id': 235}, 'region': {'city': 'London'}}, 'timezone': {'name': 'Europe/London', 'offset': 0, 'abbr': 'GMT', 'abbrName': 'Greenwich Mean Time', 'isDst': False}, 'visible': True}, 'destination': {'name': 'Charlotte Douglas International Airport', 'code': {'iata': 'CLT', 'icao': 'KCLT'}, 'position': {'latitude': 35.214001, 'longitude': -80.9431, 'country': {'name': 'United States', 'code': 'US', 'id': 236}, 'region': {'city': 'Charlotte'}}, 'timezone': {'name': 'America/New_York', 'offset': -18000, 'abbr': 'EST', 'abbrName': 'Eastern Standard Time', 'isDst': False}, 'visible': True}, 'real': None}, 'time': {'scheduled': {'departure': 1678109400, 'arrival': 1678141260}, 'real': {'departure': None, 'arrival': None}, 'estimated': {'departure': None, 'arrival': None}, 'other': {'eta': None, 'updated': 1677377873, 'duration': None}}}\n"
     ]
    }
   ],
   "source": [
    "url = \"https://flight-radar1.p.rapidapi.com/flights/get-more-info\"\n",
    "\n",
    "querystring = {\"query\":\"AA731\",\"fetchBy\":\"flight\",\"page\":\"1\",\"limit\":\"100\"}\n",
    "\n",
    "headers = {\n",
    "    \"X-RapidAPI-Key\": \"810d33a75fmshad81c9f9fe0092dp1b265fjsn84c46f310410\",\n",
    "    \"X-RapidAPI-Host\": \"flight-radar1.p.rapidapi.com\"\n",
    "}\n",
    "\n",
    "#Make request to API\n",
    "response = requests.request(\"GET\", url, headers=headers, params=querystring)\n",
    "\n",
    "#Convert request response to JSON\n",
    "json_data = response.json()\n",
    "\n",
    "#Print the first flight info\n",
    "print(json_data['result']['response']['data'][0])"
   ]
  },
  {
   "cell_type": "code",
   "execution_count": null,
   "id": "da27419a-4e1a-4c3f-ad43-4106b1ed0e8c",
   "metadata": {},
   "outputs": [],
   "source": []
  }
 ],
 "metadata": {
  "kernelspec": {
   "display_name": "Python 3",
   "language": "python",
   "name": "python3"
  },
  "language_info": {
   "codemirror_mode": {
    "name": "ipython",
    "version": 3
   },
   "file_extension": ".py",
   "mimetype": "text/x-python",
   "name": "python",
   "nbconvert_exporter": "python",
   "pygments_lexer": "ipython3",
   "version": "3.8.8"
  }
 },
 "nbformat": 4,
 "nbformat_minor": 5
}
